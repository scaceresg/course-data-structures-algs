{
 "cells": [
  {
   "attachments": {},
   "cell_type": "markdown",
   "metadata": {},
   "source": [
    "## Divide and Conquer"
   ]
  },
  {
   "attachments": {},
   "cell_type": "markdown",
   "metadata": {},
   "source": [
    "### Introduction\n",
    "\n",
    "**General structure**:\n",
    "\n",
    "*A problem to be solved* $\\rightarrow$ *Divide* $\\rightarrow$ *Conquer* $\\rightarrow$ *Combine*\n",
    "\n",
    "* Divide: Break the problem into non-overlapping subproblems of the same type.\n",
    "\n",
    "* Conquer: Solve each subproblem independently\n",
    "\n",
    "* Combine: Combine the results into the solution to the original problem.\n",
    "\n",
    "**How to solve the subproblems?**:\n",
    "\n",
    "Since each subproblem is of the same type as the original, we can recursively solve the subproblem using the same divide and conquer strategy (*Recursive solution*)."
   ]
  },
  {
   "attachments": {},
   "cell_type": "markdown",
   "metadata": {},
   "source": [
    "### Linear search\n",
    "\n",
    "**Problem**: Searching in an array\n",
    "\n",
    "**Input**: An array $A$ with $n$ elements. A key $k$.\n",
    "\n",
    "**Output**: An index, $i$, where $A[i] = k$. If there is no such $i$, then `NOT_FOUND`."
   ]
  },
  {
   "attachments": {},
   "cell_type": "markdown",
   "metadata": {},
   "source": [
    "- **Recursive solution**:\n",
    "\n",
    "```\n",
    "LinearSearch(A, low, high, key):\n",
    "    if high < low:\n",
    "        return NOT_FOUND\n",
    "    if A[low] = key:\n",
    "        return low\n",
    "    return LinearSearch(A, low+1, high, key)\n",
    "```\n",
    "\n",
    "The runtime is computed by using a *recurrence relation*, which is an equation recursively defining a sequence of values:\n",
    "\n",
    "The recurrence defining worst-case time is:\n",
    "\n",
    "$T(n) = T(n-1) + c$\n",
    "\n",
    "$Total = \\sum_{i=0}^n c - \\Theta (n)$"
   ]
  },
  {
   "attachments": {},
   "cell_type": "markdown",
   "metadata": {},
   "source": [
    "### Binary search\n",
    "\n",
    "**Problem**: Searching in a sorted array\n",
    "\n",
    "**Input**: A sorted array $A[low\\dots high]$ ($\\forall low \\le i < high: A[i] \\le A[i+1]$). A key $k$.\n",
    "\n",
    "**Output**: An index, $i$, ($low \\le i \\le high$) where $A[i] = k$. \n",
    "\n",
    "Otherwise, the greatest index $i$, where $A[i] < k$.\n",
    "\n",
    "Otherwise ($k < A[low]$), the result is $low-1$\n",
    "\n",
    "$\\rightarrow$ Instead of returning `NOT_FOUND`, the algorithm will show where in the array would you actually insert the element if you wanted to insert it."
   ]
  },
  {
   "attachments": {},
   "cell_type": "markdown",
   "metadata": {},
   "source": [
    "**Example**:\n",
    "\n",
    "Array: `[3, 5, 8, 20, 20, 50, 60]`\n",
    "\n",
    "* `search(2)` $\\rightarrow 0$ ($low-1$)\n",
    "* `search(3)` $\\rightarrow 1$ ($i$, where $A[i] = k$)\n",
    "* `search(4)` $\\rightarrow 1$ (greatest $i$, where $A[i] < k$)\n",
    "* `search(20)` $\\rightarrow 4$\n",
    "* `search(20)` $\\rightarrow 5$\n",
    "* `search(60)` $\\rightarrow 7$\n",
    "* `search(90)` $\\rightarrow 7$ (greatest $i$, where $A[i] < k$)"
   ]
  },
  {
   "attachments": {},
   "cell_type": "markdown",
   "metadata": {},
   "source": [
    "- **Recursive solution**:\n",
    "\n",
    "```\n",
    "BinarySearch(A, low, high, key):\n",
    "    if high < low:\n",
    "        return low - 1\n",
    "    mid = floor(low + (high - low)/2)\n",
    "    if key = A[mid]:\n",
    "        return mid\n",
    "    else if key < A[mid]:\n",
    "        return BinarySearch(A, low, mid - 1, key)\n",
    "    else:\n",
    "        return BinarySearch(A, mid + 1, high, key)\n",
    "```\n",
    "\n",
    "**Example**:\n",
    "\n",
    "`BinarySearch(A, 1, 11, 50)`\n",
    "\n",
    "`A = [3, 5, 8, 10, 12, 15, 18, 20, 20, 50, 60]`\n",
    "\n",
    "$low \\rightarrow 1$\n",
    "\n",
    "$high \\rightarrow 11$\n",
    "\n",
    "$mid = \\lfloor low + \\frac{high-low}{2} \\rfloor \\rightarrow 6$\n",
    "\n",
    "Since $A[6] = 15 < 50$, ignore the lower half of the array and call binary search again:\n",
    "\n",
    "`BinarySearch(A, 7, 11, 50)`: $mid \\rightarrow 9$\n",
    "\n",
    "and call it again:\n",
    "\n",
    "`BinarySearch(A, 10, 11, 50)`: $mid \\rightarrow 10$ and $A[10] = 50$\n",
    "\n",
    "\n",
    "**Runtime**:\n"
   ]
  },
  {
   "cell_type": "code",
   "execution_count": null,
   "metadata": {
    "vscode": {
     "languageId": "plaintext"
    }
   },
   "outputs": [],
   "source": []
  },
  {
   "cell_type": "markdown",
   "metadata": {},
   "source": []
  }
 ],
 "metadata": {
  "language_info": {
   "name": "python"
  },
  "orig_nbformat": 4
 },
 "nbformat": 4,
 "nbformat_minor": 2
}
