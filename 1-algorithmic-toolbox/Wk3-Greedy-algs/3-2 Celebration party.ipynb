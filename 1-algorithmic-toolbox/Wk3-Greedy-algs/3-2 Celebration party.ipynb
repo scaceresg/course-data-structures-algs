{
 "cells": [
  {
   "attachments": {},
   "cell_type": "markdown",
   "metadata": {},
   "source": [
    "## Celebration party"
   ]
  },
  {
   "attachments": {},
   "cell_type": "markdown",
   "metadata": {},
   "source": [
    "### Celebration party problem\n",
    "\n",
    "Many children came to a celebration. \n",
    "\n",
    "Organize them into the minimum possible number of groups such that the age of any two children in the same group differs by at most two years.\n",
    "\n",
    "**Naive algorithm**\n",
    "\n",
    "* Try all possible distributions of children into one or more groups\n",
    "\n",
    "* For each distribution, check whether any two children in any group differ by at most 2 years of age\n",
    "\n",
    "* Return the minimum number of groups among valid distributions\n",
    "\n",
    "*Lemma*\n",
    "\n",
    "The running time of the naive algorithm is at least $2^n$, where $n$ is the number of children.\n",
    "\n",
    "**Asymptotics**\n",
    "\n",
    "- Naive algorithm works in time $\\Omega(2^n)$\n",
    "\n",
    "- For $n = 50$, it is at least $2^{50} = 1125899906842624$ operations!"
   ]
  },
  {
   "attachments": {},
   "cell_type": "markdown",
   "metadata": {},
   "source": [
    "### Greedy algorithm\n",
    "\n",
    "**Unrelated problem: Covering points by segments**:\n",
    "\n",
    "**Input**: A set of $n$ points $x_1, \\dots, x_n \\in \\R$\n",
    "\n",
    "**Output**: The minimum number of segments of length at most $2$ needed to cover all the points.\n",
    "\n",
    "**Connection with group children**:\n",
    "\n",
    "- Points $x_1, \\dots, x_n$ correspond to children' ages\n",
    "\n",
    "- Segments correspond to groups\n",
    "\n",
    "- Any two children within the same segment of length $2$ differ by at most $2$ years of age\n",
    "\n",
    "- Any valid group of children can be put into a segment of length $2$"
   ]
  },
  {
   "attachments": {},
   "cell_type": "markdown",
   "metadata": {},
   "source": [
    "**Greedy algorithm for the covering points problem**\n",
    "\n",
    "1. *Safe choice*: cover the leftmost point with a segment of length $2$ which starts in this point.\n",
    "\n",
    "2. Remove all the points within this segment\n",
    "\n",
    "3. Solve the same problem (*subproblem*) with the remaining points\n",
    "\n",
    "Pseudocode:\n",
    "\n",
    "Assume $x_1 \\le x_2 \\le \\dots \\le x_n$\n",
    "\n",
    "```\n",
    "PointsCoverSorted(x1,...,xn):\n",
    "    segments = []\n",
    "    left = 1\n",
    "    while left <= n:\n",
    "        (l, r) = (xleft, xleft + 2)  # length of the segment is 2\n",
    "        segments.append((l, r))\n",
    "        left = left + 1\n",
    "        while left <= n and xleft <= r:\n",
    "            left = left + 1\n",
    "    return segments\n",
    "```\n",
    "\n",
    "*Lemma*:\n",
    "\n",
    "The running time of `PointsCoverSorted()` is $O(n)$ - Linear.\n",
    "\n",
    "- Proof:\n",
    "\n",
    "    - `left` changes from `1 to n`\n",
    "    - For each `left`, append at most $1$ new segment to solution\n",
    "    - Overall, running time is $O(n)$\n",
    "\n",
    "We also need to consider the *sorting* function for the points:\n",
    "\n",
    "- Soon, you will learn to sort in $O*(n \\log n)$\n",
    "\n",
    "- Sort + `PointsCoverSorted` is $O(n \\log n)$\n",
    "\n",
    "**Asymptotics**\n",
    "\n",
    "* Straightforwad solution is $\\Omega(2^n)$; very long for $n = 50$\n",
    "\n",
    "* Sort + greedy is $O(n \\log n)$, which is fast for $n = 10 000 000$\n"
   ]
  }
 ],
 "metadata": {
  "language_info": {
   "name": "python"
  },
  "orig_nbformat": 4
 },
 "nbformat": 4,
 "nbformat_minor": 2
}
