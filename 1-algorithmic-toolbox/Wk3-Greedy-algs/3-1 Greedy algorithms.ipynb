{
 "cells": [
  {
   "attachments": {},
   "cell_type": "markdown",
   "metadata": {},
   "source": [
    "## Greedy algorithms"
   ]
  },
  {
   "attachments": {},
   "cell_type": "markdown",
   "metadata": {},
   "source": [
    "### Largest number (Toy problem)\n",
    "\n",
    "What is the largest number that consists of digits `[9, 8, 6, 9, 1]`?\n",
    "\n",
    "**Possible results**:\n",
    "\n",
    "`16899, 69891, 98961`\n",
    "\n",
    "**Greedy strategy**:\n",
    "\n",
    "`{9, 8, 9, 6, 1}` $\\rightarrow$ ??????\n",
    "\n",
    "* Find max digit: e.g. `9`\n",
    "\n",
    "* *Append* it to the number $\\rightarrow$ `9`\n",
    "\n",
    "* *Remove* it from the list of digits: `{8, 9, 6, 1}`\n",
    "\n",
    "* Repeat while there are digits in the list\n",
    "\n",
    "**Best result based on greedy strategy**:\n",
    "\n",
    "`99861`!"
   ]
  },
  {
   "cell_type": "code",
   "execution_count": 4,
   "metadata": {},
   "outputs": [
    {
     "name": "stdout",
     "output_type": "stream",
     "text": [
      "99861\n"
     ]
    }
   ],
   "source": [
    "# Greedy strategy for the largest number\n",
    "digits = [9, 8, 6, 9, 1]\n",
    "largest_num = '0'\n",
    "\n",
    "while len(digits) > 0:\n",
    "    max_num = max(digits)\n",
    "    largest_num += str(max_num)\n",
    "    digits.remove(max_num)\n",
    "\n",
    "print(int(largest_num))"
   ]
  },
  {
   "attachments": {},
   "cell_type": "markdown",
   "metadata": {},
   "source": [
    "### Queue of patients\n",
    "\n",
    "*Arrange a queue of patients:*\n",
    "\n",
    "**Input**: $n$ patients have come to the doctor's office at 9:00AM. They can be treated in any order. For $i$-th patient, the time needed for treatment is $t_i$. You need to arrange the patients in such a queue that the total waiting time is minimized.\n",
    "\n",
    "**Output**: The minimum total waiting time"
   ]
  },
  {
   "attachments": {},
   "cell_type": "markdown",
   "metadata": {},
   "source": [
    "For example, a queue of $3$ patients:\n",
    "\n",
    "$t_1 = 15, t_2 = 20, t_3 = 10$\n",
    "\n",
    "Arrangement `{1, 2, 3}`:\n",
    "\n",
    "* First patient doesn't wait\n",
    "\n",
    "* Second patient waits for $15$ minutes\n",
    "\n",
    "* Third patient waits for $15 + 20 = 35$ minutes\n",
    "\n",
    "* Total waiting time $15 + 35 = 50$ minutes"
   ]
  },
  {
   "attachments": {},
   "cell_type": "markdown",
   "metadata": {},
   "source": [
    "**Greedy strategy**:\n",
    "\n",
    "* Make some greedy choice:\n",
    "\n",
    "    - E.g. First treat the patient with maximum, minimum or average treatment time? --> Greedy choice: minimum treatment time\n",
    "\n",
    "* Reduce to a smaller problem:\n",
    "\n",
    "    - Remove patient with the minimum treatment time from the queue\n",
    "\n",
    "* Iterate:\n",
    "\n",
    "    - Treat all the remaining patients in such order as to minimize their total waiting time"
   ]
  },
  {
   "attachments": {},
   "cell_type": "markdown",
   "metadata": {},
   "source": [
    "Optimal Arrangement `{3, 1, 2}` (min. treatment time order):\n",
    "\n",
    "* First patient doesn't wait\n",
    "\n",
    "* Second patient waits for $10$ minutes\n",
    "\n",
    "* Third patient waits for $10 + 15 = 25$ minutes\n",
    "\n",
    "* Total waiting time $10 + 25 = 35$ minutes"
   ]
  },
  {
   "attachments": {},
   "cell_type": "markdown",
   "metadata": {},
   "source": [
    "**Definition of Subproblem**\n",
    "\n",
    "A *Subproblem* is a similar problem of smaller size.\n",
    "\n",
    "Examples:\n",
    "\n",
    "* `MaximumSalary(1, 9, 8, 9, 6)` = `9 + MaximumSalary(1, 8, 9, 6)`\n",
    "\n",
    "* Minimum total waiting time for $n$ patients = $(n-1)\\times t_{min} + \\text{ minimum total waiting time for } n-1 \\text{ patients without } t_{min}$"
   ]
  },
  {
   "attachments": {},
   "cell_type": "markdown",
   "metadata": {},
   "source": [
    "**Definition of Safe Choice**\n",
    "\n",
    "A greedy choice is called *Safe Choice* if there is an optimal solution consistent with this first choice."
   ]
  },
  {
   "attachments": {},
   "cell_type": "markdown",
   "metadata": {},
   "source": [
    "*Lemma*\n",
    "\n",
    "In any optimal arrangement of the patients, first of any two **consecutive** patients has smaller treatment time."
   ]
  },
  {
   "attachments": {},
   "cell_type": "markdown",
   "metadata": {},
   "source": [
    "### Implementation and Analysis\n",
    "\n",
    "**Implementation**:\n",
    "\n",
    "Pseudocode:\n",
    "\n",
    "```\n",
    "MinTotalWaitingTime(t, n):\n",
    "    waitingTime = 0\n",
    "    treated = array of n zeros\n",
    "    for i from 1 to n:\n",
    "        t_min = +inf\n",
    "        minIndex = 0\n",
    "        for j from 1 to n:\n",
    "            if treated[j] == 0 and t[j] < t_min:\n",
    "                t_min = t[j]\n",
    "                minIndex = j\n",
    "        waitingTime = waitingTime + (n - 1) . t_min\n",
    "        treated[minIndex] = 1\n",
    "    return waitingTime\n",
    "```\n",
    "\n",
    "**Analysis**:\n",
    "\n",
    "*Lemma*\n",
    "\n",
    "The running time of `MinTotalWaitingTime(t, n)` is $O(n^2)$\n",
    "\n",
    "- Proof:\n",
    "    - External `for` loop: `i` changes from `1 to n`\n",
    "    - Internal `for` loop: For each value of `i`, `j` changes from `1 to n`\n",
    "    - This result in $O(n^2)$\n",
    "\n",
    "**An efficient implementation**:\n",
    "\n",
    "This problem can be solved in time $O(n \\log n)$.\n",
    "\n",
    "Instead of choosing the patient with minimum treatment time out of remaining ones $n$ times, **sort patients by increasing treatment time**.\n",
    "\n",
    "This sorted arrangement is optimal! $\\rightarrow$ We avoid the internal `for` loop!\n",
    "\n",
    "It is possible to sort $n$ patients in time $O(n \\log n)$ - You will learn this in the next module."
   ]
  },
  {
   "attachments": {},
   "cell_type": "markdown",
   "metadata": {},
   "source": [
    "### Main Ingredients of Greedy Algorithms\n",
    "\n",
    "**Reduction to Subproblem**:\n",
    "\n",
    "* Make some first choice $\\rightarrow$ A safe choice\n",
    "\n",
    "* Then solve a problem of the same kind\n",
    "\n",
    "* Smaller: fewer digits, fewer patients\n",
    "\n",
    "* This is called a 'Subproblem'\n",
    "\n",
    "\n",
    "**General Strategy**:\n",
    "\n",
    "Problem $\\rightarrow$ *greedy choice* $\\rightarrow$ Safe choice\n",
    "\n",
    "Safe choice $\\rightarrow$ *Subproblem* $\\rightarrow$ Problem\n",
    "\n",
    "1. Make a greedy choice\n",
    "\n",
    "2. Prove that it is a safe choice\n",
    "\n",
    "3. Reduce to a subproblem\n",
    "\n",
    "4. Solve the subproblem"
   ]
  }
 ],
 "metadata": {
  "kernelspec": {
   "display_name": "Python 3",
   "language": "python",
   "name": "python3"
  },
  "language_info": {
   "codemirror_mode": {
    "name": "ipython",
    "version": 3
   },
   "file_extension": ".py",
   "mimetype": "text/x-python",
   "name": "python",
   "nbconvert_exporter": "python",
   "pygments_lexer": "ipython3",
   "version": "3.10.1"
  },
  "orig_nbformat": 4
 },
 "nbformat": 4,
 "nbformat_minor": 2
}
