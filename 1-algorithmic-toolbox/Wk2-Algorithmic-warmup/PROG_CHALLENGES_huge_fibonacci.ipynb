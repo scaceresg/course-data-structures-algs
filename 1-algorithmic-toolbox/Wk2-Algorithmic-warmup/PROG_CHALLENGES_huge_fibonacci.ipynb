{
 "cells": [
  {
   "attachments": {},
   "cell_type": "markdown",
   "metadata": {},
   "source": [
    "## Programming Challenges"
   ]
  },
  {
   "attachments": {},
   "cell_type": "markdown",
   "metadata": {},
   "source": [
    "### Huge Fibonacci Number"
   ]
  },
  {
   "attachments": {},
   "cell_type": "markdown",
   "metadata": {},
   "source": [
    "```\n",
    "Huge Fibonacci Number Problem\n",
    "\n",
    "Compute the n-th Fibonacci number modulo m\n",
    "\n",
    "    input: Integers n and m\n",
    "    output: n-th Fibonacci number modulo m\n",
    "```"
   ]
  },
  {
   "attachments": {},
   "cell_type": "markdown",
   "metadata": {},
   "source": [
    "#### Solution 1. Pisano Period\n",
    "\n",
    "In this problem, $n$ may be so huge that an algorithm going through all Fibonacci nummbers $F_i$ for $i$ from $0$ to $n$ will be too slow. \n",
    "\n",
    "To get an idea how to solve this problem without going through all $F_0, F_1, \\dots, F_n$ take a look at the table below:"
   ]
  },
  {
   "attachments": {},
   "cell_type": "markdown",
   "metadata": {},
   "source": [
    "|       i       | 0 | 1 | 2 | 3 | 4 | 5 | 6 | 7 | 8 | 9 | 10 | 11 | 12 | 13 | 14 | 15 |\n",
    "|---------------|---|---|---|---|---|---|---|---|---|---|----|----|----|----|----|----|\n",
    "|     $F_i$     | 0 | 1 | 1 | 2 | 3 | 5 | 8 | 13| 21| 34| 55 | 89 | 144| 233| 377| 610|\n",
    "| $F_i$ mod $2$ | 0 | 1 | 1 | 0 | 1 | 1 | 0 | 1 | 1 | 0 |  1 |  1 |  0 |  1 |  1 |  0 |\n",
    "| $F_i$ mod $3$ | 0 | 1 | 1 | 2 | 0 | 2 | 2 | 1 | 0 | 1 |  1 |  2 |  0 |  2 |  2 |  1 |"
   ]
  },
  {
   "attachments": {},
   "cell_type": "markdown",
   "metadata": {},
   "source": [
    "**Stop and think**: Do you see any interesting properties of the last two rows in the table above?"
   ]
  },
  {
   "attachments": {},
   "cell_type": "markdown",
   "metadata": {},
   "source": [
    "Both these sequences are periodic! For $m = 2$, the period is $011$ and has length $3$, while for $m = 3$ the period is $01120221$ and has length $8$.\n",
    "\n",
    "Therefore, to compute, say, $F_{2015}$ mod $3$, we just need to find the remainder of $2015$ when divided by $8$. Since $2015 = 251 \\times 8 + 7$, we conclude that $F_{2015}$ mod $3 = F_7$ mod $3 = 1$"
   ]
  },
  {
   "attachments": {},
   "cell_type": "markdown",
   "metadata": {},
   "source": [
    "It turns out that for any integer $m \\ge 2$, the sequence $F_n$ mod $m$ is periodic. The period always starts with $01$ and is known as the ***Pisano Period*** (Pisano is another name of Fibonacci)"
   ]
  },
  {
   "attachments": {},
   "cell_type": "markdown",
   "metadata": {},
   "source": [
    "This leads us to the following simple pseudocode for computing the Pisano period modulo $m$ for an arbitrary modulo $m$.\n",
    "\n",
    "```\n",
    "PisanoPeriod(m):\n",
    "\n",
    "    current = 0\n",
    "    next = 1\n",
    "    period = 0\n",
    "\n",
    "    while True:\n",
    "        oldNext = next\n",
    "        next = (current + next) mod m\n",
    "        current = oldNext\n",
    "        period = period + 1\n",
    "\n",
    "        if current = 0 and next = 1:\n",
    "            return period\n",
    "```"
   ]
  },
  {
   "cell_type": "code",
   "execution_count": 3,
   "metadata": {},
   "outputs": [
    {
     "name": "stdout",
     "output_type": "stream",
     "text": [
      "151\n"
     ]
    }
   ],
   "source": [
    "def pisano_period(m):\n",
    "    \n",
    "    current, next = 0, 1\n",
    "    period = 0\n",
    "\n",
    "    while True:\n",
    "        current, next = next, (current + next) % m\n",
    "        period += 1\n",
    "        if current == 0 and next == 1:\n",
    "            return period\n",
    "\n",
    "def fib_mod(n, m):\n",
    "    \n",
    "    current, next = 0, 1\n",
    "\n",
    "    for _ in range(n):\n",
    "        current, next = next, (current + next) % m\n",
    "\n",
    "    return current\n",
    "\n",
    "\n",
    "print(fib_mod(2816213588 % pisano_period(239), 239))"
   ]
  },
  {
   "attachments": {},
   "cell_type": "markdown",
   "metadata": {},
   "source": [
    "#### Solution 2. Fast Matrix Exponentiation\n",
    "\n",
    "An alternative way to compute $F_n$ mod $m$ is to notice that the equations:\n",
    "\n",
    "$$\n",
    "F_n = 0 . F_{n-1} + 1 . F_n\\\\\n",
    "F_{n+1} = 1 . F_{n-1} + 1.F_n\n",
    "$$\n",
    "\n",
    "can be represented as multiplying a $2\\times2$ matrix \n",
    "\n",
    "\\begin{vmatrix}\n",
    "0 & 1\\\\\n",
    "1 & 1\n",
    "\\end{vmatrix}\n",
    "\n",
    "and a vector \n",
    "\n",
    "$F_{n-1}$\n",
    "\n",
    "$F_n$"
   ]
  },
  {
   "attachments": {},
   "cell_type": "markdown",
   "metadata": {},
   "source": [
    "$F_n$ is simply the top right element of the $n$-th power of the matrix\n",
    "```\n",
    "M = [[0, 1],\n",
    "     [1, 1]]\n",
    "```"
   ]
  },
  {
   "attachments": {},
   "cell_type": "markdown",
   "metadata": {},
   "source": [
    "We illustrate the idea of the ***fast matrix exponentiation*** using integers rather than matrices. Given an integer $x$, a naive way to compute $x^9$ is to do $8$ multiplications. But here is a faster way to compute $x^9$ with just $4$ multiplications:\n",
    "\n",
    "$$\n",
    "y_1 = x . x\\\\\n",
    "y_2 = y_1 . y_1\\\\\n",
    "y_3 = y_2 . y_2\\\\\n",
    "y_4 = y_3 . x\n",
    "$$\n",
    "\n",
    "More generally:\n",
    "\n",
    "* if $n$ is even, computing $x^n$ takes just one more multiplication compared to computing $y=x^{n/2}$ since $x^n = x^{n/2} . x^{n/2} = y . y$\n",
    "\n",
    "* if $n$ is odd, computing $x^n$ takes just two more multiplication compared to computing $y = x^{(n-1)/2}$ since $x^n = (x^{(n-1)/2}.x^{(n-1)/2}).x = y.y.x$"
   ]
  },
  {
   "attachments": {},
   "cell_type": "markdown",
   "metadata": {},
   "source": [
    "```\n",
    "FastIntegerExponentiation(x, n):\n",
    "\n",
    "    if n = 0:\n",
    "        return 1\n",
    "    if n is even:\n",
    "        z = FastIntegerExponentiation(x, n/2)\n",
    "        return z^2\n",
    "    else:\n",
    "        z = FastIntegerExponentiation(x, (n-1)/2)\n",
    "        return z^2.x\n",
    "```"
   ]
  },
  {
   "attachments": {},
   "cell_type": "markdown",
   "metadata": {},
   "source": [
    "Since each recursive call `FastIntegerExponentiation` makes two integer multiplications and halves $n$, it performs at most $2\\log n$ multiplications."
   ]
  },
  {
   "cell_type": "code",
   "execution_count": null,
   "metadata": {},
   "outputs": [],
   "source": []
  }
 ],
 "metadata": {
  "kernelspec": {
   "display_name": "Python 3",
   "language": "python",
   "name": "python3"
  },
  "language_info": {
   "codemirror_mode": {
    "name": "ipython",
    "version": 3
   },
   "file_extension": ".py",
   "mimetype": "text/x-python",
   "name": "python",
   "nbconvert_exporter": "python",
   "pygments_lexer": "ipython3",
   "version": "3.8.2"
  },
  "orig_nbformat": 4,
  "vscode": {
   "interpreter": {
    "hash": "9650cb4e16cdd4a8e8e2d128bf38d875813998db22a3c986335f89e0cb4d7bb2"
   }
  }
 },
 "nbformat": 4,
 "nbformat_minor": 2
}
