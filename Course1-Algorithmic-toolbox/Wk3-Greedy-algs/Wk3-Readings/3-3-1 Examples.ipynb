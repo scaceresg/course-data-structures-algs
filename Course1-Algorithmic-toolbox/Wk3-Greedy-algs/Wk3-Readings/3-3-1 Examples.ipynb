{
 "cells": [
  {
   "attachments": {},
   "cell_type": "markdown",
   "metadata": {},
   "source": [
    "## Example of Greedy Algorithms"
   ]
  },
  {
   "attachments": {},
   "cell_type": "markdown",
   "metadata": {},
   "source": [
    "### Largest Concatenate Problem\n",
    "\n",
    "Given a sequence of single-digit numbers, find the largest number that can be obtained by concatenating these numbers. The largest single-digit number should be selected as the first digit of the concatenate.\n",
    "\n",
    "```\n",
    "LargestConcatenate(Numbers):\n",
    "    result = ''\n",
    "    while Numbers is not empty:\n",
    "        maxNumber = max(Numbers)\n",
    "        append maxNumber to result\n",
    "        remove maxNumber from Numbers\n",
    "    return result\n",
    "```"
   ]
  },
  {
   "cell_type": "code",
   "execution_count": 3,
   "metadata": {},
   "outputs": [],
   "source": [
    "def largest_concatenate(numbers):\n",
    "    result = ''\n",
    "    while len(numbers) > 0:\n",
    "        max_number = max(numbers)\n",
    "        result += str(max_number)\n",
    "        numbers.remove(max_number)\n",
    "    return int(result)"
   ]
  },
  {
   "cell_type": "code",
   "execution_count": 5,
   "metadata": {},
   "outputs": [
    {
     "name": "stdout",
     "output_type": "stream",
     "text": [
      "93322\n"
     ]
    }
   ],
   "source": [
    "# Example\n",
    "nums = [2, 3, 9, 3, 2]\n",
    "larg_conc = largest_concatenate(nums)\n",
    "print(larg_conc)"
   ]
  },
  {
   "attachments": {},
   "cell_type": "markdown",
   "metadata": {},
   "source": [
    "### Money Change Problem\n",
    "\n",
    "Given a non-integer *money*, find the minimum number of coins with denominations $1$, $5$ and $10$ that changes money. \n",
    "\n",
    "We take a coin $c$ with the largest denomination that does not exceed *money*. Afterward, change(*money* - $c$) with the minimum number of coins.\n",
    "\n",
    "**Problem**: Compute the minimum number of coins needed to change the given value into coins with denominations $1, 5$ and $10$.\n",
    "\n",
    "**Input**: An integer money\n",
    "\n",
    "**Output**: The minimum number of coins with denominations $1, 5$ and $10$ that changes money.\n",
    "\n",
    "Pseudocode:\n",
    "\n",
    "```\n",
    "Change(money, Denominations):\n",
    "    numCoins = 0\n",
    "    while money > 0:\n",
    "        maxCoin = largest among Denominations that does not exceed money\n",
    "        money = money - maxCoin\n",
    "        numCoins = numCoins + 1\n",
    "    return numCoins\n",
    "```\n",
    "\n",
    "```\n",
    "Change(money):\n",
    "    numCoins = 0\n",
    "    while money > 0:\n",
    "        if money >= 10:\n",
    "            money = money - 10\n",
    "        else if money >= 5:\n",
    "            money = money - 5\n",
    "        else:\n",
    "            money = money - 1\n",
    "        numCoins = numCoins + 1\n",
    "    return numCoins\n",
    "```\n",
    "\n",
    "--> There's also a one-liner for solving this problem:\n",
    "\n",
    "`return floor(money/10) + floor((money mod 10)/5) + (money mod 5)`"
   ]
  },
  {
   "cell_type": "code",
   "execution_count": 12,
   "metadata": {},
   "outputs": [],
   "source": [
    "def change(money, denominations):\n",
    "    num_coins = 0\n",
    "    while money > 0:\n",
    "        max_coin = 0\n",
    "        for i in denominations:\n",
    "            if i <= money:\n",
    "                max_coin = i\n",
    "                break\n",
    "            else:\n",
    "                continue\n",
    "        money -= max_coin\n",
    "        num_coins += 1\n",
    "    return num_coins"
   ]
  },
  {
   "cell_type": "code",
   "execution_count": 19,
   "metadata": {},
   "outputs": [
    {
     "name": "stdout",
     "output_type": "stream",
     "text": [
      "3\n"
     ]
    }
   ],
   "source": [
    "money = 8\n",
    "denoms = [6, 4, 1] # sorted denominations\n",
    "n_coins = change(money, denoms)\n",
    "print(n_coins)"
   ]
  },
  {
   "cell_type": "code",
   "execution_count": 16,
   "metadata": {},
   "outputs": [],
   "source": [
    "import numpy as np\n",
    "\n",
    "# Running time: O(m)\n",
    "def one_line_change(money):\n",
    "    return np.floor(money/10) + np.floor((money % 10)/5) + (money % 5)"
   ]
  },
  {
   "cell_type": "code",
   "execution_count": 17,
   "metadata": {},
   "outputs": [
    {
     "name": "stdout",
     "output_type": "stream",
     "text": [
      "6.0\n"
     ]
    }
   ],
   "source": [
    "money = 28\n",
    "denoms = [10, 5, 1] # sorted denominations\n",
    "n_coins = one_line_change(money)\n",
    "print(n_coins)"
   ]
  },
  {
   "attachments": {},
   "cell_type": "markdown",
   "metadata": {},
   "source": [
    "### Local vs Global Optimum\n",
    "\n",
    "If you use these algorithms for the following instances:\n",
    "\n",
    "- `LargestConcatenate([2, 21])` returns $212$\n",
    "- `Change(8, [1, 4, 6])` returns $3$"
   ]
  },
  {
   "cell_type": "code",
   "execution_count": 14,
   "metadata": {},
   "outputs": [
    {
     "name": "stdout",
     "output_type": "stream",
     "text": [
      "212\n"
     ]
    }
   ],
   "source": [
    "lar_c = largest_concatenate([2, 21])\n",
    "print(lar_c)"
   ]
  },
  {
   "cell_type": "code",
   "execution_count": 15,
   "metadata": {},
   "outputs": [
    {
     "name": "stdout",
     "output_type": "stream",
     "text": [
      "3\n"
     ]
    }
   ],
   "source": [
    "n_coins = change(8, [6, 4, 1])\n",
    "print(n_coins)"
   ]
  },
  {
   "attachments": {},
   "cell_type": "markdown",
   "metadata": {},
   "source": [
    "But this strategy fails because the correct solutions are $221$ (concatenating 2 with 21) and $2$ because $8 = 4 + 4$\n",
    "\n",
    "Thus, in *rare cases*, when a greedy strategy works, one should be able to prove its correctness: A priori, there should be no reason why a sequence of *locally* optimal moves leads to a *global* optimum!"
   ]
  },
  {
   "attachments": {},
   "cell_type": "markdown",
   "metadata": {},
   "source": [
    "### Greedy Algorithm: Recursive variants\n",
    "\n",
    "Recursive variants of the `LargestConcatenate` and `Change` methods:\n",
    "\n",
    "```\n",
    "LargestConcatenate(Numbers):\n",
    "    if Numbers is empty:\n",
    "        return empty string\n",
    "    maxNumber = largest among Numbers\n",
    "    remove maxNumber from Numbers\n",
    "    return concatenate of maxNumber and LargestConcatenate(Numbers)\n",
    "```\n",
    "\n",
    "```\n",
    "Change(money, Denominations):\n",
    "    if money = 0:\n",
    "        return 0\n",
    "        maxCoin = largest among Denominations that does not exceed money\n",
    "    return 1 + Change(money - maxCoin, Denominations)\n",
    "```\n"
   ]
  },
  {
   "attachments": {},
   "cell_type": "markdown",
   "metadata": {},
   "source": [
    "### Maximizing the Value of the Loot \n",
    "\n",
    "**Problem**: Find the maximal value of items that fit into the backpack\n",
    "\n",
    "**Input**: The capacity of a backpack $W$ as well as the weights $(w_1, \\dots, w_n)$ and costs $(c_1, \\dots, c_n)$ of $n$ different compounds.\n",
    "\n",
    "**Outputs**: The maximum total value of items that fit into the backpack of the given capacity: i.e., the maximum value of $c_1 \\cdot f_1 + \\dots + c_n \\cdot f_n$ such that $w_1 \\cdot f_1 + \\dots + w_n \\cdot f_n \\le W$ and $0 \\le f_i \\le 1$ for all $i$ ($f_i$ is the fraction of the $i$-th item taken to the backpack). "
   ]
  },
  {
   "attachments": {},
   "cell_type": "markdown",
   "metadata": {},
   "source": [
    "Recursive version of the maximum loot: running time is $O(n^2)$\n",
    "\n",
    "```\n",
    "MaximumLoot(W, Weight, Cost):\n",
    "    if W = 0 or Weight is empty:\n",
    "        return 0\n",
    "    m = the index of the most expensive item\n",
    "    amount = min(Weight[m], W)\n",
    "    value = Cost[m] . (amount/Weight[m])\n",
    "    remove the m-th element from Weight and Cost\n",
    "    return value + MaximumLoot(W, Weight, Cost)\n",
    "```"
   ]
  },
  {
   "cell_type": "markdown",
   "metadata": {},
   "source": []
  }
 ],
 "metadata": {
  "kernelspec": {
   "display_name": "Python 3",
   "language": "python",
   "name": "python3"
  },
  "language_info": {
   "codemirror_mode": {
    "name": "ipython",
    "version": 3
   },
   "file_extension": ".py",
   "mimetype": "text/x-python",
   "name": "python",
   "nbconvert_exporter": "python",
   "pygments_lexer": "ipython3",
   "version": "3.10.1"
  },
  "orig_nbformat": 4
 },
 "nbformat": 4,
 "nbformat_minor": 2
}
