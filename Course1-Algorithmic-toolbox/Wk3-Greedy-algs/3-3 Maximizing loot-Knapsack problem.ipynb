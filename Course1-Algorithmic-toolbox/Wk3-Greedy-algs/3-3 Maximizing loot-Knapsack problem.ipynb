{
 "cells": [
  {
   "attachments": {},
   "cell_type": "markdown",
   "metadata": {},
   "source": [
    "## Maximizing loot: The knapsack problem"
   ]
  },
  {
   "attachments": {},
   "cell_type": "markdown",
   "metadata": {},
   "source": [
    "### Fractional knapsack problem\n",
    "\n",
    "**Input**: Weights $w_1, \\dots, w_n$ and values $v_1, \\dots, v_n$ of $n$ items; capacity $W$\n",
    "\n",
    "**Output**: The maximum total value of fractions of items that fit into a knapsack of capacity $W$"
   ]
  },
  {
   "attachments": {},
   "cell_type": "markdown",
   "metadata": {},
   "source": [
    "**Example**\n",
    "\n",
    "3 items: \n",
    "\n",
    "- Item 1: $30 and 5kg\n",
    "- Item 2: $28 and 4kg\n",
    "- Item 3: $24 and 3kg\n",
    "\n",
    "Knapsack capacity: 9kg\n",
    "\n",
    "Possible solutions: \n",
    "\n",
    "* 5kg of item 1 + 4kg of item 2: Total value of $30 + $28 = $58\n",
    "* 5kg of item 1 + 3kg of item 3 + 1kg of item 2: Total value of $30 + $24 + $28/4 = $61\n",
    "* 3kg of item 3 + 4kg of item 2 + 2kg of item 1: Total value of $24 + $28 + $30*2/5 = $64\n",
    "\n",
    "The key is the value($)/unit(kg):\n",
    "\n",
    "- Item 1: $6/unit\n",
    "- Item 2: $7/unit\n",
    "- Item 3: $8/unit\n",
    "\n",
    "*Lemma*:\n",
    "\n",
    "**Safe choice**: There exists an optimal solution that uses as much as possible of an item with the maximal value per unit of weight."
   ]
  },
  {
   "attachments": {},
   "cell_type": "markdown",
   "metadata": {},
   "source": [
    "**Greedy algorithm**:\n",
    "\n",
    "1. While knapsack is not full\n",
    "\n",
    "2. Choose item $i$ with maximum $\\frac{v_i}{w_i}$\n",
    "\n",
    "3. If item fits into knapsack, take all of it\n",
    "\n",
    "4. Otherwise, take so much as to fill the knapsack\n",
    "\n",
    "5. Return total value and amounts taken"
   ]
  },
  {
   "attachments": {},
   "cell_type": "markdown",
   "metadata": {},
   "source": [
    "### Implementation and analysis\n",
    "\n",
    "- Auxiliary method to select the best item (value/weight):\n",
    "\n",
    "```\n",
    "BestItem(w1, v1, ..., wn, vn):\n",
    "    maxValuePerWeight = 0\n",
    "    bestItem = 0\n",
    "    for i from 1 to n:\n",
    "        if wi > 0:\n",
    "            if vi/wi > maxValuePerWeight:\n",
    "                maxValuePerWeight = vi/wi\n",
    "                bestItem = i\n",
    "    return bestItem\n",
    "```\n",
    "\n",
    "- Greedy algorithm for the knapsack problem:\n",
    "\n",
    "```\n",
    "Knapsack(W, w1, v1, ..., wn, vn):\n",
    "    amounts = [0, 0, ..., 0]\n",
    "    totalValue = 0\n",
    "    repeat n times:\n",
    "        if W = 0:\n",
    "            return (totalValue, amounts)\n",
    "        i = BestItem(w1, v1, ..., wn, vn)\n",
    "        a = min(wi, W)\n",
    "        totalValue = totalValue + a*(vi/wi)\n",
    "        wi = wi - a\n",
    "        amounts[i] = amounts[i] + a\n",
    "        W = W - a\n",
    "    return (totalValue, amounts)\n",
    "```"
   ]
  },
  {
   "attachments": {},
   "cell_type": "markdown",
   "metadata": {},
   "source": [
    "*Lemma*:\n",
    "\n",
    "The running time of `Knapsack` is $O(n^2)$\n",
    "\n",
    "- Proof:\n",
    "\n",
    "    - `BestItem` uses one loop with $n$ iterations, so it is $O(n)$\n",
    "    - Main loop is executed $n$ times, and `BestItem` is called once per iteration\n",
    "    - Overall, $O(n^2)$"
   ]
  },
  {
   "cell_type": "code",
   "execution_count": 12,
   "metadata": {},
   "outputs": [],
   "source": [
    "from time import time"
   ]
  },
  {
   "cell_type": "code",
   "execution_count": 1,
   "metadata": {},
   "outputs": [],
   "source": [
    "# Method to select best item (v/w)\n",
    "def best_item(weights, values):\n",
    "    max_val_per_weight = 0\n",
    "    best_item = 0\n",
    "    for i in range(len(weights)):\n",
    "        if weights[i] > 0:\n",
    "            if values[i]/weights[i] > max_val_per_weight:\n",
    "                max_val_per_weight = values[i]/weights[i]\n",
    "                best_item = i\n",
    "    return best_item"
   ]
  },
  {
   "cell_type": "code",
   "execution_count": 16,
   "metadata": {},
   "outputs": [],
   "source": [
    "# Greedy algorithm for the fractional knapsack problem\n",
    "def knapsack(W, weights, values):\n",
    "    st = time()\n",
    "    amounts = [0] * len(weights)\n",
    "    total_val = 0\n",
    "    n = 0\n",
    "    while n < len(weights):\n",
    "        if W == 0:\n",
    "            rt = time() - st\n",
    "            return {'total_vals': total_val, 'amounts': amounts, 'runtime': rt}\n",
    "        i = best_item(weights, values)\n",
    "        a = min(weights[i], W)\n",
    "        total_val += a * (values[i]/weights[i])\n",
    "        weights[i] -= a\n",
    "        amounts[i] += a\n",
    "        W -= a\n",
    "        n += 1\n",
    "    rt = time() - st\n",
    "    return {'total_vals': total_val, 'amounts': amounts, 'runtime': rt}"
   ]
  },
  {
   "cell_type": "code",
   "execution_count": 17,
   "metadata": {},
   "outputs": [
    {
     "name": "stdout",
     "output_type": "stream",
     "text": [
      "0.0\n"
     ]
    }
   ],
   "source": [
    "# Example: 3 items\n",
    "ws = [5, 4, 3]\n",
    "vs = [30, 28, 24]\n",
    "capacity = 9\n",
    "\n",
    "greedy_res = knapsack(W=capacity, weights=ws, values=vs)\n",
    "print(greedy_res['runtime'])"
   ]
  },
  {
   "cell_type": "code",
   "execution_count": 4,
   "metadata": {},
   "outputs": [
    {
     "name": "stdout",
     "output_type": "stream",
     "text": [
      "64.0\n"
     ]
    }
   ],
   "source": [
    "print(greedy_res['total_vals'])"
   ]
  },
  {
   "cell_type": "code",
   "execution_count": 5,
   "metadata": {},
   "outputs": [
    {
     "name": "stdout",
     "output_type": "stream",
     "text": [
      "[2, 4, 3]\n"
     ]
    }
   ],
   "source": [
    "print(greedy_res['amounts'])"
   ]
  },
  {
   "attachments": {},
   "cell_type": "markdown",
   "metadata": {},
   "source": [
    "### Efficient greedy algorithm for the knapsack problem\n",
    "\n",
    "It is possible to improve the asymptotics of the previous greedy algorithm by *sorting* items by decreasing $\\frac{v}{w}$\n",
    "\n",
    "Assume $\\frac{v_1}{w_1} \\ge \\frac{v_2}{w_2} \\ge \\dots \\ge \\frac{v_n}{w_n}$ $\\rightarrow$ *Sorted*\n",
    "\n",
    "```\n",
    "KnapsackFast(W, w1, v1, ..., wn, vn):\n",
    "    amounts = [0, 0, ..., 0]\n",
    "    totalValue = 0\n",
    "    for i from 1 to n:\n",
    "        if W = 0:\n",
    "            return (totalValue, amounts)\n",
    "        a = min(wi, W)\n",
    "        totalValue = totalValue + a*(vi/wi)\n",
    "        wi = wi - a\n",
    "        amounts[i] = amounts[i] + a\n",
    "        W = W - a\n",
    "    return (totalValue, amounts)\n",
    "```\n",
    "\n",
    "**Asymptotics**:\n",
    "\n",
    "- Now each iteration is $O(1)$\n",
    "- `Knapsack` after sorting is $O(n)$\n",
    "- Sort + `Knapsack` is $O(n \\log n)$"
   ]
  },
  {
   "cell_type": "code",
   "execution_count": 22,
   "metadata": {},
   "outputs": [],
   "source": [
    "# Efficient greedy algorithm using sorted input\n",
    "def knapsack_fast(W, weights, values):\n",
    "    st = time()\n",
    "    amounts = [0] * len(weights)\n",
    "    total_val = 0\n",
    "    for i in range(len(weights)):\n",
    "        if W == 0:\n",
    "            rt = time() - st\n",
    "            return {'total_vals': total_val, 'amounts': amounts, 'runtime': rt}\n",
    "        a = min(weights[i], W)\n",
    "        total_val += a * (values[i]/weights[i])\n",
    "        weights[i] -= a\n",
    "        amounts[i] += a\n",
    "        W -= a\n",
    "    rt = time() - st\n",
    "    return {'total_vals': total_val, 'amounts': amounts, 'runtime': rt}"
   ]
  },
  {
   "cell_type": "code",
   "execution_count": 23,
   "metadata": {},
   "outputs": [],
   "source": [
    "# Example: 3 items (sorted)\n",
    "ws = [3, 4, 5]\n",
    "vs = [24, 28, 30]\n",
    "capacity = 9\n",
    "\n",
    "fast_greedy_res = knapsack_fast(W=capacity, weights=ws, values=vs)"
   ]
  },
  {
   "cell_type": "code",
   "execution_count": 24,
   "metadata": {},
   "outputs": [
    {
     "name": "stdout",
     "output_type": "stream",
     "text": [
      "[3, 4, 2]\n",
      "64.0\n",
      "0.0\n"
     ]
    }
   ],
   "source": [
    "print(fast_greedy_res['amounts'])\n",
    "print(fast_greedy_res['total_vals'])\n",
    "print(fast_greedy_res['runtime'])"
   ]
  }
 ],
 "metadata": {
  "kernelspec": {
   "display_name": "Python 3",
   "language": "python",
   "name": "python3"
  },
  "language_info": {
   "codemirror_mode": {
    "name": "ipython",
    "version": 3
   },
   "file_extension": ".py",
   "mimetype": "text/x-python",
   "name": "python",
   "nbconvert_exporter": "python",
   "pygments_lexer": "ipython3",
   "version": "3.10.1"
  },
  "orig_nbformat": 4
 },
 "nbformat": 4,
 "nbformat_minor": 2
}
