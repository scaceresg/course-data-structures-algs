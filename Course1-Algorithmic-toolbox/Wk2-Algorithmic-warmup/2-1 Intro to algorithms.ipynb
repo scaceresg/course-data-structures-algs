{
 "cells": [
  {
   "cell_type": "markdown",
   "metadata": {},
   "source": [
    "## Why study algorithms?\n",
    "\n",
    "#### Simple programming problems\n",
    "\n",
    "e.g. printing an output, copying a file, searching for a given word\n",
    "\n",
    "* They have a linear scan\n",
    "\n",
    "* They cannot do much better\n",
    "\n",
    "* The obvious program works\n",
    "\n",
    "### Algorithm problems\n",
    "\n",
    "e.g. find the shortest path between two locations, find the best assignment of students to rooms, measure the similarity between two documents\n",
    "\n",
    "* Not clear how to do\n",
    "\n",
    "* Simple ideas -> too slow\n",
    "\n",
    "* Room for optimization\n",
    "\n",
    "### Artificial intelligence problems\n",
    "\n",
    "e.g. write a computer program to understand natural language, identify objects in photographs, teach a computer to play games well\n",
    "\n",
    "* Hard to even clearly state"
   ]
  }
 ],
 "metadata": {
  "language_info": {
   "name": "python"
  },
  "orig_nbformat": 4
 },
 "nbformat": 4,
 "nbformat_minor": 2
}
