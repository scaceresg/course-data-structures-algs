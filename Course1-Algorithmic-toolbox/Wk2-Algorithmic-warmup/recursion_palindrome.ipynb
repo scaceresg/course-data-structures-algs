{
 "cells": [
  {
   "cell_type": "markdown",
   "metadata": {},
   "source": [
    "## Using recursion to check if string is palindrome\n",
    "\n",
    "Palindrome -> Words in the same order forwards and backwards. e.g. 'rotor'"
   ]
  },
  {
   "cell_type": "code",
   "execution_count": 21,
   "metadata": {},
   "outputs": [],
   "source": [
    "def is_palindrome(string):\n",
    "    # Define the base case: A single o no letter is palindrome\n",
    "    if len(string) <= 1:\n",
    "        return True\n",
    "    else: # Then compare first and last letter, they must be equal\n",
    "        if string[0] != string[-1]:\n",
    "            return False\n",
    "        else: # Strip to continue with a subproblem\n",
    "            letter = string[0]\n",
    "            string = string.strip(letter)\n",
    "            return is_palindrome(string)\n",
    "    "
   ]
  },
  {
   "cell_type": "code",
   "execution_count": 23,
   "metadata": {},
   "outputs": [
    {
     "name": "stdout",
     "output_type": "stream",
     "text": [
      "True\n"
     ]
    }
   ],
   "source": [
    "print(is_palindrome('rotor'))"
   ]
  },
  {
   "cell_type": "markdown",
   "metadata": {},
   "source": []
  }
 ],
 "metadata": {
  "interpreter": {
   "hash": "2db524e06e9f5f4ffedc911c917cb75e12dbc923643829bf417064a77eb14d37"
  },
  "kernelspec": {
   "display_name": "Python 3.8.2 64-bit",
   "language": "python",
   "name": "python3"
  },
  "language_info": {
   "codemirror_mode": {
    "name": "ipython",
    "version": 3
   },
   "file_extension": ".py",
   "mimetype": "text/x-python",
   "name": "python",
   "nbconvert_exporter": "python",
   "pygments_lexer": "ipython3",
   "version": "3.8.2"
  },
  "orig_nbformat": 4
 },
 "nbformat": 4,
 "nbformat_minor": 2
}
