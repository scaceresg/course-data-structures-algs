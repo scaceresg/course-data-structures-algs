{
 "cells": [
  {
   "cell_type": "markdown",
   "metadata": {},
   "source": [
    "## Fibonacci numbers\n",
    "\n",
    "$F_n = \\begin{cases}0, & n = 0,\\\\1, & n = 1,\\\\F_{n-1} + F_{n-2}, & n > 1\\end{cases}$"
   ]
  },
  {
   "cell_type": "markdown",
   "metadata": {},
   "source": [
    "Fibonacci numbers are a **sequence of natural numbers** where the 0th element of the sequence is 0, the first element is 1, and from thereon, each element is the sum of the previous two, that is:\n",
    "\n",
    "$0, 1, 1, 2, 3, 5, 8, 13, 21, 34, ...$\n",
    "\n",
    "Fibonacci numbers were developed as a mathematical model for the study of rabbit populations. -> **Rapid Growth**\n",
    "\n",
    "Fibonacci numbers grow exponentially:\n",
    "\n",
    "* $F_{20} = 6765$\n",
    "\n",
    "* $F_{50} = 12586269025$\n",
    "\n",
    "* $F_{100} = 354224848279362925075$ "
   ]
  },
  {
   "cell_type": "markdown",
   "metadata": {},
   "source": [
    "The problem is: *How to compute Fibonacci numbers?*\n",
    "\n",
    "**Input:** An integer $n \\geq 0$\n",
    "\n",
    "**Output:** $F_n$"
   ]
  },
  {
   "cell_type": "markdown",
   "metadata": {},
   "source": [
    "### Naive algorithm"
   ]
  },
  {
   "cell_type": "code",
   "execution_count": 8,
   "metadata": {},
   "outputs": [],
   "source": [
    "# Algorithm\n",
    "def fib_recursive(n):\n",
    "    if n <= 1:\n",
    "        return n\n",
    "    else:\n",
    "        return fib_recursive(n - 1) + fib_recursive(n - 2)"
   ]
  },
  {
   "cell_type": "code",
   "execution_count": 53,
   "metadata": {},
   "outputs": [
    {
     "data": {
      "text/plain": [
       "6765"
      ]
     },
     "execution_count": 53,
     "metadata": {},
     "output_type": "execute_result"
    }
   ],
   "source": [
    "fib_recursive(20)"
   ]
  },
  {
   "cell_type": "markdown",
   "metadata": {},
   "source": [
    "**Running time**\n",
    "\n",
    "Let $T(n)$ denote the number of **lines of code** executed by `fib_recursive(n)`\n",
    "\n",
    "So, $T(n)$ can be formulated as:\n",
    "\n",
    "$T(n) = \\begin{cases}2 & \\text{if } n \\leq 1\\\\ T(n-1) + T(n-2) + 3 & \\text{else} \\end{cases}$\n",
    "\n",
    "*Looks like the Fibonacci numbers formula*\n",
    "\n",
    "Therefore, $T(n) \\geq F_n$ **This is alarming**, because Fibonacci numbers grow exponentially.\n",
    "\n",
    "$T(100) \\approx 1.77 * 10^{21} \\quad\\quad (1.77 \\text{sextillion})$\n",
    "\n",
    "At 1GHz, it would take about **56000 years to complete this computation**"
   ]
  },
  {
   "cell_type": "markdown",
   "metadata": {},
   "source": [
    "This is because, when using the recursive call, we compute the whole thing from scratch."
   ]
  },
  {
   "cell_type": "markdown",
   "metadata": {},
   "source": [
    "### Efficient algorithm"
   ]
  },
  {
   "cell_type": "markdown",
   "metadata": {},
   "source": [
    "To understand this algorithm, you need to imitate hand computation.\n",
    "\n",
    "Imagine you want to imitate how you would compute them by hand:\n",
    "\n",
    "* You start with 0 and 1\n",
    "\n",
    "* Then you start adding, 0 + 1 = 1\n",
    "\n",
    "* 1 + 1 = 2\n",
    "\n",
    "* 1 + 2 = 3\n",
    "\n",
    "* 2 + 3 = 5\n",
    "\n",
    "You look at the last elements of the list and add them together!"
   ]
  },
  {
   "cell_type": "code",
   "execution_count": 1,
   "metadata": {},
   "outputs": [],
   "source": [
    "def fib_list(n):\n",
    "    # Create an array F[0, ..., n]\n",
    "    fib = [None] * (n + 1)\n",
    "    # Add 0 and 1\n",
    "    fib[0] = 0\n",
    "    fib[1] = 1\n",
    "    # The next numbers are the sum of the previous 2 in the list\n",
    "    for i in range(2, n + 1):\n",
    "        fib[i] = fib[i - 1] + fib[i - 2]\n",
    "        \n",
    "    return fib[-1]"
   ]
  },
  {
   "cell_type": "code",
   "execution_count": 1,
   "metadata": {},
   "outputs": [
    {
     "ename": "NameError",
     "evalue": "name 'fib_list' is not defined",
     "output_type": "error",
     "traceback": [
      "\u001b[1;31m---------------------------------------------------------------------------\u001b[0m",
      "\u001b[1;31mNameError\u001b[0m                                 Traceback (most recent call last)",
      "\u001b[1;32m<ipython-input-1-bd375812cde2>\u001b[0m in \u001b[0;36m<module>\u001b[1;34m\u001b[0m\n\u001b[1;32m----> 1\u001b[1;33m \u001b[0mfib_list\u001b[0m\u001b[1;33m(\u001b[0m\u001b[1;36m50\u001b[0m\u001b[1;33m)\u001b[0m\u001b[1;33m\u001b[0m\u001b[1;33m\u001b[0m\u001b[0m\n\u001b[0m",
      "\u001b[1;31mNameError\u001b[0m: name 'fib_list' is not defined"
     ]
    }
   ],
   "source": [
    "fib_list(50)"
   ]
  },
  {
   "cell_type": "code",
   "execution_count": 3,
   "metadata": {},
   "outputs": [
    {
     "data": {
      "text/plain": [
       "354224848179261915075"
      ]
     },
     "execution_count": 3,
     "metadata": {},
     "output_type": "execute_result"
    }
   ],
   "source": [
    "fib_list(100)"
   ]
  },
  {
   "cell_type": "markdown",
   "metadata": {},
   "source": [
    "This algorithm is easy to compute and a lot faster!\n",
    "\n",
    "$T(n) = 2n + 2 \\rightarrow T(100) = 202$"
   ]
  }
 ],
 "metadata": {
  "kernelspec": {
   "display_name": "Python 3.8.2 64-bit",
   "language": "python",
   "name": "python3"
  },
  "language_info": {
   "codemirror_mode": {
    "name": "ipython",
    "version": 3
   },
   "file_extension": ".py",
   "mimetype": "text/x-python",
   "name": "python",
   "nbconvert_exporter": "python",
   "pygments_lexer": "ipython3",
   "version": "3.8.2"
  },
  "orig_nbformat": 4,
  "vscode": {
   "interpreter": {
    "hash": "9650cb4e16cdd4a8e8e2d128bf38d875813998db22a3c986335f89e0cb4d7bb2"
   }
  }
 },
 "nbformat": 4,
 "nbformat_minor": 2
}
