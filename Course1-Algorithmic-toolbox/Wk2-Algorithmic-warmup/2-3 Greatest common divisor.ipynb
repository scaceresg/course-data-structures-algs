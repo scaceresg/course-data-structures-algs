{
 "cells": [
  {
   "cell_type": "markdown",
   "metadata": {},
   "source": [
    "## Greatest Common Divisor (GCD)\n",
    "\n",
    "Put a fraction $\\frac{a}{b}$ in simplest form.\n",
    "\n",
    "Divide the numerator and denominator by $d$, to get $\\frac{a/d}{b/d}$ (equivalent fraction)\n",
    "\n",
    "It needs to satisfy:\n",
    "\n",
    "* Need $d$ to divide $a$ and $b$\n",
    "* Want $d$ to be as large as possible\n",
    "\n",
    "**Definition**: For integers, $a$ and $b$, their *greatest common divisor* or $gcd(a, b)$ is the largest integer $d$ so that $d$ divides both $a$ and $b$.\n",
    "\n",
    "**Input**: Integers $a, b \\geq 0$\n",
    "\n",
    "**Output**: $gcd(a, b)$\n",
    "\n",
    "We want it to run on large numbers!"
   ]
  },
  {
   "cell_type": "markdown",
   "metadata": {},
   "source": [
    "### Naive Algorithm\n",
    "\n",
    "Function `NaiveGCD(a, b)`:\n",
    "```\n",
    "best = 0\n",
    "for d from 1 to a + b:\n",
    "    if d|a and d|b:\n",
    "        best = d\n",
    "return best\n",
    "```\n",
    "\n",
    "* Runtime approximately $a + b$\n",
    "* Very slow for 20 digit numbers"
   ]
  },
  {
   "cell_type": "code",
   "execution_count": 4,
   "metadata": {},
   "outputs": [],
   "source": [
    "def naive_gcd(a, b):\n",
    "    best = 0\n",
    "    for d in range(1, a + b):\n",
    "        if a % d == 0 and b % d == 0:\n",
    "            best = d\n",
    "    return best"
   ]
  },
  {
   "cell_type": "code",
   "execution_count": 7,
   "metadata": {},
   "outputs": [
    {
     "data": {
      "text/plain": [
       "15"
      ]
     },
     "execution_count": 7,
     "metadata": {},
     "output_type": "execute_result"
    }
   ],
   "source": [
    "naive_gcd(105, 30)"
   ]
  },
  {
   "cell_type": "code",
   "execution_count": 8,
   "metadata": {},
   "outputs": [
    {
     "data": {
      "text/plain": [
       "61232"
      ]
     },
     "execution_count": 8,
     "metadata": {},
     "output_type": "execute_result"
    }
   ],
   "source": [
    "naive_gcd(3918848, 1653264)"
   ]
  },
  {
   "cell_type": "code",
   "execution_count": 9,
   "metadata": {},
   "outputs": [
    {
     "data": {
      "text/plain": [
       "3"
      ]
     },
     "execution_count": 9,
     "metadata": {},
     "output_type": "execute_result"
    }
   ],
   "source": [
    "naive_gcd(357, 234)"
   ]
  },
  {
   "cell_type": "markdown",
   "metadata": {},
   "source": [
    "### Efficient Algorithm\n",
    "\n",
    "You need to know this *Key Lemma* to implement a more efficient algorithm:\n",
    "\n",
    "**Key Lemma**: Let $a^{'}$ be the reminder when $a$ is divided by $b$, then\n",
    "\n",
    "$gcd(a, b) = gcd(a^{'}, b) = gcd(b,a^{'})$\n",
    "\n",
    "* Because $a^{'}$ is a remainder, this means that $a = a^{'} + bq$ for some $q$\n",
    "\n",
    "* From that, you can show that $d$ divides $a$ and $b$ if and only if it divides $a^{'}$ and $b$\n",
    "\n",
    "Common divisors of $a$ and $b$ are exactly the same as the common divisors of $a^{'}$ and $b$. Therefore the *greatest common divisor* of $a$ and $b$ is also the one for $a^{'}$ and $b$.\n",
    "\n",
    "\n",
    "The **Euclidean Algorithm**\n",
    "\n",
    "Function `EuclidGCD(a,b)`:\n",
    "\n",
    "```\n",
    "if b = 0:\n",
    "    return a\n",
    "a' = the remainder when a is divided by b\n",
    "return EuclidGDC(b, a')\n",
    "```"
   ]
  },
  {
   "cell_type": "code",
   "execution_count": 1,
   "metadata": {},
   "outputs": [],
   "source": [
    "def euclid_gcd(a, b):\n",
    "    if b == 0:\n",
    "        return a\n",
    "    a_prime = a % b\n",
    "    return euclid_gcd(b, a_prime)"
   ]
  },
  {
   "cell_type": "code",
   "execution_count": 10,
   "metadata": {},
   "outputs": [
    {
     "data": {
      "text/plain": [
       "61232"
      ]
     },
     "execution_count": 10,
     "metadata": {},
     "output_type": "execute_result"
    }
   ],
   "source": [
    "euclid_gcd(3918848, 1653264)"
   ]
  },
  {
   "cell_type": "code",
   "execution_count": 11,
   "metadata": {},
   "outputs": [
    {
     "data": {
      "text/plain": [
       "3"
      ]
     },
     "execution_count": 11,
     "metadata": {},
     "output_type": "execute_result"
    }
   ],
   "source": [
    "euclid_gcd(357, 234)"
   ]
  },
  {
   "cell_type": "markdown",
   "metadata": {},
   "source": [
    "This Euclidean algorithm:\n",
    "\n",
    "* Each step reduces the size of numbers by about a factor of 2\n",
    "\n",
    "* Takes about $log(ab)$ steps\n",
    "\n",
    "* GCDs of 100 digit numbers takes about 600 steps\n",
    "\n",
    "* Each step is a single division"
   ]
  },
  {
   "cell_type": "code",
   "execution_count": null,
   "metadata": {},
   "outputs": [],
   "source": []
  }
 ],
 "metadata": {
  "kernelspec": {
   "display_name": "Python 3",
   "language": "python",
   "name": "python3"
  },
  "language_info": {
   "codemirror_mode": {
    "name": "ipython",
    "version": 3
   },
   "file_extension": ".py",
   "mimetype": "text/x-python",
   "name": "python",
   "nbconvert_exporter": "python",
   "pygments_lexer": "ipython3",
   "version": "3.8.2"
  },
  "orig_nbformat": 4,
  "vscode": {
   "interpreter": {
    "hash": "9650cb4e16cdd4a8e8e2d128bf38d875813998db22a3c986335f89e0cb4d7bb2"
   }
  }
 },
 "nbformat": 4,
 "nbformat_minor": 2
}
