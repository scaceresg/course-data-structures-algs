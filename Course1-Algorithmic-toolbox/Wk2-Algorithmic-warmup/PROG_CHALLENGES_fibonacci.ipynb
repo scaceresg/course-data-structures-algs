{
 "cells": [
  {
   "attachments": {},
   "cell_type": "markdown",
   "metadata": {},
   "source": [
    "## Programming Challenges"
   ]
  },
  {
   "attachments": {},
   "cell_type": "markdown",
   "metadata": {},
   "source": [
    "### Fibonacci Number"
   ]
  },
  {
   "attachments": {},
   "cell_type": "markdown",
   "metadata": {},
   "source": [
    "```\n",
    "Fibonacci Number Problem\n",
    "\n",
    "Compute the n-th Fibonacci number\n",
    "\n",
    "    input: An integer n\n",
    "    output: n-th Fibonacci number\n",
    "```"
   ]
  },
  {
   "attachments": {},
   "cell_type": "markdown",
   "metadata": {},
   "source": [
    "$$\n",
    "F_n = F_{n-1} + F_{n-2}\n",
    "$$"
   ]
  },
  {
   "attachments": {},
   "cell_type": "markdown",
   "metadata": {},
   "source": [
    "#### Solution 1. Recursive Algorithm\n",
    "\n",
    "```\n",
    "Fibonacci(n):\n",
    "\n",
    "    if n <= 1:\n",
    "        return n\n",
    "    else:\n",
    "        return Fibonacci(n-2) + Fibonacci(n-1)\n",
    "```"
   ]
  },
  {
   "cell_type": "code",
   "execution_count": 3,
   "metadata": {},
   "outputs": [
    {
     "name": "stdout",
     "output_type": "stream",
     "text": [
      "13\n"
     ]
    }
   ],
   "source": [
    "def fibonacci(n):\n",
    "    if n <= 1:\n",
    "        return n\n",
    "    else:\n",
    "        return fibonacci(n-2) + fibonacci(n-1)\n",
    "\n",
    "print(fibonacci(7))"
   ]
  },
  {
   "attachments": {},
   "cell_type": "markdown",
   "metadata": {},
   "source": [
    "**Constraints**: $0 \\le n \\le 45$\n",
    "\n",
    "The code produces the right results $F_7 = 13$, but many computations are repeated! If you run this code to compute $F_{150}$, the Sun may die before your computer returns the result!\n",
    "\n",
    "**Stop and think**: How would you compute $F_7$ by hand?"
   ]
  },
  {
   "attachments": {},
   "cell_type": "markdown",
   "metadata": {},
   "source": [
    "#### Solution 2. Iterative Algorithm\n",
    "\n",
    "```\n",
    "Fibonacci(n):\n",
    "\n",
    "    if n <= 1:\n",
    "        return n\n",
    "    \n",
    "    allocate an array F[0..n]\n",
    "    F[0] = 0\n",
    "    F[1] = 1\n",
    "    \n",
    "    for i from 2 to n:\n",
    "        F[i] = F[i - 2] + F[i - 1]\n",
    "    \n",
    "    return F[n]\n",
    "```"
   ]
  },
  {
   "attachments": {},
   "cell_type": "markdown",
   "metadata": {},
   "source": [
    "This algorithm makes about $n$ arithmetic operations and works well in practice. \n",
    "\n",
    "**Stop and think**: Can one avoid storing the entire array?"
   ]
  },
  {
   "attachments": {},
   "cell_type": "markdown",
   "metadata": {},
   "source": [
    "```\n",
    "Fibonacci(n):\n",
    "\n",
    "    if n <= 1:\n",
    "        return n\n",
    "    \n",
    "    previous = 0\n",
    "    current = 1\n",
    "\n",
    "    repeat(n - 1) times:\n",
    "        oldPrevious = previous\n",
    "        previous = current\n",
    "        current = oldPrevious + current\n",
    "    \n",
    "    return current\n",
    "```"
   ]
  },
  {
   "cell_type": "code",
   "execution_count": 20,
   "metadata": {},
   "outputs": [
    {
     "name": "stdout",
     "output_type": "stream",
     "text": [
      "1134903170\n"
     ]
    }
   ],
   "source": [
    "def fibonacci_iter(n):\n",
    "\n",
    "    if n <= 1:\n",
    "        return n\n",
    "\n",
    "    current, next = 0, 1\n",
    "\n",
    "    for _ in range(n):\n",
    "        current, next = next, current + next\n",
    "\n",
    "    return current\n",
    "\n",
    "print(fibonacci_iter(45))"
   ]
  },
  {
   "attachments": {},
   "cell_type": "markdown",
   "metadata": {},
   "source": [
    "#### Solution 3. Memoization\n",
    "\n",
    "The reason why the recursive algorithm is so slow is that it repeats many identical computations: for example, `Fibonacci(7)` calls `Fibonacci(3)` five times.\n",
    "\n",
    "Would it better to store $F_3$ the first time it is computed and use this stored value when we need it instead of computing it from scratch? $\\rightarrow$ ***memoization***\n",
    "\n",
    "When something is computed, store this in a data structure to avoid recomputing this again in the future."
   ]
  },
  {
   "attachments": {},
   "cell_type": "markdown",
   "metadata": {},
   "source": [
    "```\n",
    "table = associative array (table[i] will be used to store Fi)\n",
    "\n",
    "Fibonacci(n):\n",
    "\n",
    "    if table[n] is not yet computed:\n",
    "        if n <= 1:\n",
    "            table[n] = n\n",
    "        else:\n",
    "            table[n] = Fibonacci(n - 2) + Fibonacci(n - 1)\n",
    "    \n",
    "    return table[n]\n",
    "```"
   ]
  },
  {
   "cell_type": "code",
   "execution_count": 23,
   "metadata": {},
   "outputs": [
    {
     "name": "stdout",
     "output_type": "stream",
     "text": [
      "1134903170\n"
     ]
    }
   ],
   "source": [
    "table = {}\n",
    "\n",
    "def fibonacci_memo(n):\n",
    "\n",
    "    if n not in table:\n",
    "        if n <= 1:\n",
    "            table[n] = n\n",
    "        else:\n",
    "            table[n] = fibonacci_memo(n-2) + fibonacci_memo(n-1)\n",
    "\n",
    "    return table[n]\n",
    "\n",
    "print(fibonacci_memo(45))"
   ]
  },
  {
   "attachments": {},
   "cell_type": "markdown",
   "metadata": {},
   "source": [
    "In contrast to the original recursive algorithm, this one will make at most $n + 1$ \"serious\" recursive calls: for each $0 \\le i \\le n$, the first call to `Fibonacci(i)` computes $F_i$ and stores it in `table[i]`; then, all further calls to `Fibonacci(i)` will be just table look-ups."
   ]
  }
 ],
 "metadata": {
  "kernelspec": {
   "display_name": "Python 3",
   "language": "python",
   "name": "python3"
  },
  "language_info": {
   "codemirror_mode": {
    "name": "ipython",
    "version": 3
   },
   "file_extension": ".py",
   "mimetype": "text/x-python",
   "name": "python",
   "nbconvert_exporter": "python",
   "pygments_lexer": "ipython3",
   "version": "3.10.1"
  },
  "orig_nbformat": 4,
  "vscode": {
   "interpreter": {
    "hash": "9773dd157935b8e5120e9875c6ba92581a01da95ca569739cbfb45e081d2b768"
   }
  }
 },
 "nbformat": 4,
 "nbformat_minor": 2
}
